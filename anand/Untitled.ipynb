{
 "cells": [
  {
   "cell_type": "code",
   "execution_count": 26,
   "id": "26da7d7f",
   "metadata": {},
   "outputs": [
    {
     "name": "stdout",
     "output_type": "stream",
     "text": [
      "[{'id': '001', 'references': ['002', '003']}, {'id': '004', 'references': ['005']}]\n"
     ]
    }
   ],
   "source": [
    "def handle_duplicates(elastic_search_docs):\n",
    "    docs_lookup_table = {}\n",
    "    output = []\n",
    "    for index, val in enumerate(elastic_search_docs):\n",
    "        doc_key = generate_document_key(val)\n",
    "        if doc_key in docs_lookup_table:\n",
    "            continue\n",
    "        else:\n",
    "            docs_lookup_table[doc_key] = 1\n",
    "            output.append(val)\n",
    "    return output\n",
    "            \n",
    "    \n",
    "    \n",
    "def generate_document_key(data):\n",
    "    arr = []\n",
    "    id = data['id']\n",
    "    arr.append(id)\n",
    "    arr.extend(data['references'])\n",
    "    arr.sort()\n",
    "    return \"\".join(arr)\n",
    "\n",
    "inp = [\n",
    "        {\"id\" : \"001\", \"references\" : [\"002\", \"003\"]}, \n",
    "        {\"id\" : \"002\", \"references\" : [\"001\", \"003\"]}, \n",
    "        {\"id\" : \"004\", \"references\" : [\"005\"]},\n",
    "        {\"id\" : \"005\", \"references\" : [\"004\"]}\n",
    "      ]\n",
    "\n",
    "print(handle_duplicates(inp))"
   ]
  }
 ],
 "metadata": {
  "kernelspec": {
   "display_name": "Python 3 (ipykernel)",
   "language": "python",
   "name": "python3"
  },
  "language_info": {
   "codemirror_mode": {
    "name": "ipython",
    "version": 3
   },
   "file_extension": ".py",
   "mimetype": "text/x-python",
   "name": "python",
   "nbconvert_exporter": "python",
   "pygments_lexer": "ipython3",
   "version": "3.10.7"
  }
 },
 "nbformat": 4,
 "nbformat_minor": 5
}
