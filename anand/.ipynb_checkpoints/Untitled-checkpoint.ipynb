{
 "cells": [
  {
   "cell_type": "code",
   "execution_count": 16,
   "id": "11901342",
   "metadata": {},
   "outputs": [
    {
     "name": "stdout",
     "output_type": "stream",
     "text": [
      "None\n"
     ]
    }
   ],
   "source": [
    "def handle_duplicates(elastic_search_docs):\n",
    "    docs_lookup_table = {}\n",
    "    output = []\n",
    "    for index, val in enumerate(elastic_search_docs):\n",
    "        \n",
    "        doc_key = generate_document_key(val)\n",
    "        if doc_key in docs_lookup_table:\n",
    "            continue\n",
    "        else:\n",
    "            docs_lookup_table[doc_key] = 1\n",
    "            output.append(val)\n",
    "            \n",
    "    \n",
    "    \n",
    "def generate_document_key(data):\n",
    "    arr = []\n",
    "    id = data['id']\n",
    "    arr.append(id)\n",
    "    arr.extend(data['references'])\n",
    "    arr.sort()\n",
    "    return \"\".join(arr)\n",
    "\n",
    "inp = [{\"id\" : \"001\", \"references\" : [\"002\", \"003\"]}, {\"id\" : \"002\", \"references\" : [\"001\", \"003\"]}]\n",
    "\n",
    "print(handle_duplicates(inp))\n",
    "   \n",
    "# keys = generate_dup_checker({\"id\": \"002\", \"references\": [\"001\", \"003\"]})\n",
    "# print(generate_document_key(keys))"
   ]
  },
  {
   "cell_type": "code",
   "execution_count": 9,
   "id": "8aecf064",
   "metadata": {},
   "outputs": [
    {
     "ename": "AttributeError",
     "evalue": "'dict' object has no attribute 'put'",
     "output_type": "error",
     "traceback": [
      "\u001b[0;31m---------------------------------------------------------------------------\u001b[0m",
      "\u001b[0;31mAttributeError\u001b[0m                            Traceback (most recent call last)",
      "\u001b[0;32m/var/folders/f0/gwpzywt12ddd49n2nc2ykvkr0000gp/T/ipykernel_74955/1216712106.py\u001b[0m in \u001b[0;36m<module>\u001b[0;34m\u001b[0m\n\u001b[1;32m      1\u001b[0m \u001b[0ma\u001b[0m \u001b[0;34m=\u001b[0m \u001b[0;34m{\u001b[0m\u001b[0;34m}\u001b[0m\u001b[0;34m\u001b[0m\u001b[0;34m\u001b[0m\u001b[0m\n\u001b[0;32m----> 2\u001b[0;31m \u001b[0ma\u001b[0m\u001b[0;34m.\u001b[0m\u001b[0mput\u001b[0m\u001b[0;34m(\u001b[0m\u001b[0;36m1\u001b[0m\u001b[0;34m,\u001b[0m\u001b[0;36m2\u001b[0m\u001b[0;34m)\u001b[0m\u001b[0;34m\u001b[0m\u001b[0;34m\u001b[0m\u001b[0m\n\u001b[0m\u001b[1;32m      3\u001b[0m \u001b[0ma\u001b[0m\u001b[0;34m\u001b[0m\u001b[0;34m\u001b[0m\u001b[0m\n",
      "\u001b[0;31mAttributeError\u001b[0m: 'dict' object has no attribute 'put'"
     ]
    }
   ],
   "source": []
  }
 ],
 "metadata": {
  "kernelspec": {
   "display_name": "Python 3 (ipykernel)",
   "language": "python",
   "name": "python3"
  },
  "language_info": {
   "codemirror_mode": {
    "name": "ipython",
    "version": 3
   },
   "file_extension": ".py",
   "mimetype": "text/x-python",
   "name": "python",
   "nbconvert_exporter": "python",
   "pygments_lexer": "ipython3",
   "version": "3.10.7"
  }
 },
 "nbformat": 4,
 "nbformat_minor": 5
}
